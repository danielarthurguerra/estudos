{
  "cells": [
    {
      "cell_type": "markdown",
      "metadata": {
        "id": "view-in-github",
        "colab_type": "text"
      },
      "source": [
        "<a href=\"https://colab.research.google.com/github/danielarthurguerra/estudos/blob/main/Aula_3_Python_para_Ci%C3%AAncia_de_dados_T1_Online.ipynb\" target=\"_parent\"><img src=\"https://colab.research.google.com/assets/colab-badge.svg\" alt=\"Open In Colab\"/></a>"
      ]
    },
    {
      "cell_type": "markdown",
      "metadata": {
        "id": "NVNsEUKULyZ0"
      },
      "source": [
        "# Aula 3"
      ]
    },
    {
      "cell_type": "code",
      "source": [
        "list(range(0,2,1))"
      ],
      "metadata": {
        "id": "zoSeqiE79FaR",
        "colab": {
          "base_uri": "https://localhost:8080/"
        },
        "outputId": "0f114ee0-f03b-4505-824b-9c8720fc701b"
      },
      "execution_count": null,
      "outputs": [
        {
          "output_type": "execute_result",
          "data": {
            "text/plain": [
              "[0, 1]"
            ]
          },
          "metadata": {},
          "execution_count": 2
        }
      ]
    },
    {
      "cell_type": "code",
      "source": [
        "range(0,2,1)"
      ],
      "metadata": {
        "colab": {
          "base_uri": "https://localhost:8080/"
        },
        "id": "NO8WK-Cm7_Lo",
        "outputId": "73e394ae-e2c9-49e4-966a-af0c061b243d"
      },
      "execution_count": null,
      "outputs": [
        {
          "output_type": "execute_result",
          "data": {
            "text/plain": [
              "range(0, 2)"
            ]
          },
          "metadata": {},
          "execution_count": 1
        }
      ]
    },
    {
      "cell_type": "code",
      "source": [
        "retorno = input(\"Digite um nome\")"
      ],
      "metadata": {
        "colab": {
          "base_uri": "https://localhost:8080/"
        },
        "id": "zGaThOOV8r2J",
        "outputId": "6669c85a-d071-43e3-cff4-ecf90d6d513f"
      },
      "execution_count": null,
      "outputs": [
        {
          "name": "stdout",
          "output_type": "stream",
          "text": [
            "Digite um nomeKaren\n"
          ]
        }
      ]
    },
    {
      "cell_type": "code",
      "source": [
        "retorno"
      ],
      "metadata": {
        "colab": {
          "base_uri": "https://localhost:8080/",
          "height": 35
        },
        "id": "L01xCqSw8xo-",
        "outputId": "7a8b23e6-d670-4509-852e-fba1ed2a249b"
      },
      "execution_count": null,
      "outputs": [
        {
          "output_type": "execute_result",
          "data": {
            "text/plain": [
              "'Karen'"
            ],
            "application/vnd.google.colaboratory.intrinsic+json": {
              "type": "string"
            }
          },
          "metadata": {},
          "execution_count": 4
        }
      ]
    },
    {
      "cell_type": "code",
      "source": [
        "type(retorno)"
      ],
      "metadata": {
        "colab": {
          "base_uri": "https://localhost:8080/"
        },
        "id": "ZMqSKWe8802B",
        "outputId": "f78d3dd8-9b94-43be-dcc1-8adb6e5e355d"
      },
      "execution_count": null,
      "outputs": [
        {
          "output_type": "execute_result",
          "data": {
            "text/plain": [
              "str"
            ]
          },
          "metadata": {},
          "execution_count": 5
        }
      ]
    },
    {
      "cell_type": "code",
      "source": [
        "numero = int(input(\"Digite um numero\"))"
      ],
      "metadata": {
        "colab": {
          "base_uri": "https://localhost:8080/"
        },
        "id": "Cc82lq9p84-s",
        "outputId": "487eabd9-3e01-4f2d-caa0-9da22d97eeaa"
      },
      "execution_count": null,
      "outputs": [
        {
          "name": "stdout",
          "output_type": "stream",
          "text": [
            "Digite um numero10\n"
          ]
        }
      ]
    },
    {
      "cell_type": "code",
      "source": [
        "type(numero)"
      ],
      "metadata": {
        "colab": {
          "base_uri": "https://localhost:8080/"
        },
        "id": "RJ-MmiRL9FBW",
        "outputId": "3d44ca94-03b4-4c9f-c2d5-fa12ab052572"
      },
      "execution_count": null,
      "outputs": [
        {
          "output_type": "execute_result",
          "data": {
            "text/plain": [
              "int"
            ]
          },
          "metadata": {},
          "execution_count": 7
        }
      ]
    },
    {
      "cell_type": "markdown",
      "metadata": {
        "id": "pw_oSAANLyZ2"
      },
      "source": [
        "### Operadores"
      ]
    },
    {
      "cell_type": "code",
      "source": [
        "2 == 2"
      ],
      "metadata": {
        "id": "ET9EQNeD8YpO",
        "colab": {
          "base_uri": "https://localhost:8080/"
        },
        "outputId": "da4aefa7-a452-43d5-89bc-2c5b3ab1f494"
      },
      "execution_count": null,
      "outputs": [
        {
          "output_type": "execute_result",
          "data": {
            "text/plain": [
              "True"
            ]
          },
          "metadata": {},
          "execution_count": 13
        }
      ]
    },
    {
      "cell_type": "code",
      "source": [
        "2 == 3"
      ],
      "metadata": {
        "colab": {
          "base_uri": "https://localhost:8080/"
        },
        "id": "HmOAvnO6-Ahy",
        "outputId": "fa246626-3074-4fe5-c3a5-da09383baa3c"
      },
      "execution_count": null,
      "outputs": [
        {
          "output_type": "execute_result",
          "data": {
            "text/plain": [
              "False"
            ]
          },
          "metadata": {},
          "execution_count": 11
        }
      ]
    },
    {
      "cell_type": "code",
      "source": [
        "2 != 3"
      ],
      "metadata": {
        "colab": {
          "base_uri": "https://localhost:8080/"
        },
        "id": "VL_1nNWR-LMy",
        "outputId": "9c55a74c-46b7-45b7-cb99-60f8226bd641"
      },
      "execution_count": null,
      "outputs": [
        {
          "output_type": "execute_result",
          "data": {
            "text/plain": [
              "True"
            ]
          },
          "metadata": {},
          "execution_count": 14
        }
      ]
    },
    {
      "cell_type": "code",
      "source": [
        "type(\"2\")"
      ],
      "metadata": {
        "colab": {
          "base_uri": "https://localhost:8080/"
        },
        "id": "XRQ6ohgz-8L1",
        "outputId": "313a885f-67ff-4559-e8f2-883147793cbe"
      },
      "execution_count": null,
      "outputs": [
        {
          "output_type": "execute_result",
          "data": {
            "text/plain": [
              "str"
            ]
          },
          "metadata": {},
          "execution_count": 25
        }
      ]
    },
    {
      "cell_type": "code",
      "source": [
        "type(2)"
      ],
      "metadata": {
        "colab": {
          "base_uri": "https://localhost:8080/"
        },
        "id": "9PG6e5Fm_DGP",
        "outputId": "dcf44887-a536-46cc-ea32-b5ffbb04a3e4"
      },
      "execution_count": null,
      "outputs": [
        {
          "output_type": "execute_result",
          "data": {
            "text/plain": [
              "int"
            ]
          },
          "metadata": {},
          "execution_count": 26
        }
      ]
    },
    {
      "cell_type": "code",
      "source": [
        "karen = \"karen\""
      ],
      "metadata": {
        "id": "aA-zSFtI-wUu"
      },
      "execution_count": null,
      "outputs": []
    },
    {
      "cell_type": "code",
      "source": [
        "karen"
      ],
      "metadata": {
        "colab": {
          "base_uri": "https://localhost:8080/",
          "height": 35
        },
        "id": "YZjuh9kM-4Q4",
        "outputId": "84776caf-0a76-4cec-e414-27a6d663452e"
      },
      "execution_count": null,
      "outputs": [
        {
          "output_type": "execute_result",
          "data": {
            "text/plain": [
              "'karen'"
            ],
            "application/vnd.google.colaboratory.intrinsic+json": {
              "type": "string"
            }
          },
          "metadata": {},
          "execution_count": 22
        }
      ]
    },
    {
      "cell_type": "code",
      "source": [
        "maria"
      ],
      "metadata": {
        "colab": {
          "base_uri": "https://localhost:8080/",
          "height": 166
        },
        "id": "TmwTjitI-6Py",
        "outputId": "a3e651d7-4e31-4d45-c90b-661c024f6913"
      },
      "execution_count": null,
      "outputs": [
        {
          "output_type": "error",
          "ename": "NameError",
          "evalue": "ignored",
          "traceback": [
            "\u001b[0;31m---------------------------------------------------------------------------\u001b[0m",
            "\u001b[0;31mNameError\u001b[0m                                 Traceback (most recent call last)",
            "\u001b[0;32m<ipython-input-23-43d252a7499b>\u001b[0m in \u001b[0;36m<module>\u001b[0;34m()\u001b[0m\n\u001b[0;32m----> 1\u001b[0;31m \u001b[0mmaria\u001b[0m\u001b[0;34m\u001b[0m\u001b[0;34m\u001b[0m\u001b[0m\n\u001b[0m",
            "\u001b[0;31mNameError\u001b[0m: name 'maria' is not defined"
          ]
        }
      ]
    },
    {
      "cell_type": "code",
      "source": [
        "\"karen\" != \"Karen\""
      ],
      "metadata": {
        "colab": {
          "base_uri": "https://localhost:8080/"
        },
        "id": "L7BKhioc-PNM",
        "outputId": "ff7f5b74-90f7-4ddc-9f63-3868a956040f"
      },
      "execution_count": null,
      "outputs": [
        {
          "output_type": "execute_result",
          "data": {
            "text/plain": [
              "True"
            ]
          },
          "metadata": {},
          "execution_count": 15
        }
      ]
    },
    {
      "cell_type": "code",
      "source": [
        "4 >= 2"
      ],
      "metadata": {
        "colab": {
          "base_uri": "https://localhost:8080/"
        },
        "id": "IEzU8q2V-U7-",
        "outputId": "1e21f8a5-66b0-4d37-e132-61d9ab532cd8"
      },
      "execution_count": null,
      "outputs": [
        {
          "output_type": "execute_result",
          "data": {
            "text/plain": [
              "True"
            ]
          },
          "metadata": {},
          "execution_count": 16
        }
      ]
    },
    {
      "cell_type": "code",
      "source": [
        "4 > 2"
      ],
      "metadata": {
        "colab": {
          "base_uri": "https://localhost:8080/"
        },
        "id": "oc8XFfS7-YZj",
        "outputId": "e57af957-213b-4166-fa87-b487c5fcb07f"
      },
      "execution_count": null,
      "outputs": [
        {
          "output_type": "execute_result",
          "data": {
            "text/plain": [
              "True"
            ]
          },
          "metadata": {},
          "execution_count": 17
        }
      ]
    },
    {
      "cell_type": "code",
      "source": [
        "3 < 1"
      ],
      "metadata": {
        "colab": {
          "base_uri": "https://localhost:8080/"
        },
        "id": "tei3Dp_D-bSg",
        "outputId": "d07cefa2-9893-41ef-9005-2da4e4140b1a"
      },
      "execution_count": null,
      "outputs": [
        {
          "output_type": "execute_result",
          "data": {
            "text/plain": [
              "False"
            ]
          },
          "metadata": {},
          "execution_count": 18
        }
      ]
    },
    {
      "cell_type": "code",
      "source": [
        "3 <= 3"
      ],
      "metadata": {
        "colab": {
          "base_uri": "https://localhost:8080/"
        },
        "id": "LefSkvtk-fSh",
        "outputId": "5805d956-779e-4481-bcdc-88144accaa70"
      },
      "execution_count": null,
      "outputs": [
        {
          "output_type": "execute_result",
          "data": {
            "text/plain": [
              "True"
            ]
          },
          "metadata": {},
          "execution_count": 19
        }
      ]
    },
    {
      "cell_type": "markdown",
      "metadata": {
        "id": "3Gb3pOmAJbVb"
      },
      "source": [
        "#### Diferença entre os operadores == e  is"
      ]
    },
    {
      "cell_type": "code",
      "source": [
        "lista1 = [1, 2, 3]\n",
        "lista2 = [1, 2, 3]\n",
        "lista3 = lista1"
      ],
      "metadata": {
        "id": "uSe0KGcKAMk-"
      },
      "execution_count": null,
      "outputs": []
    },
    {
      "cell_type": "code",
      "source": [
        "lista1 == lista2"
      ],
      "metadata": {
        "colab": {
          "base_uri": "https://localhost:8080/"
        },
        "id": "DJVNeR63_hM7",
        "outputId": "6f07a35d-51d8-4516-95b8-ba985eea8712"
      },
      "execution_count": null,
      "outputs": [
        {
          "output_type": "execute_result",
          "data": {
            "text/plain": [
              "True"
            ]
          },
          "metadata": {},
          "execution_count": 28
        }
      ]
    },
    {
      "cell_type": "code",
      "source": [
        "lista1 is lista2"
      ],
      "metadata": {
        "colab": {
          "base_uri": "https://localhost:8080/"
        },
        "id": "pxb94kdi_l3e",
        "outputId": "d356d466-d688-4e88-d263-4b3650003293"
      },
      "execution_count": null,
      "outputs": [
        {
          "output_type": "execute_result",
          "data": {
            "text/plain": [
              "False"
            ]
          },
          "metadata": {},
          "execution_count": 29
        }
      ]
    },
    {
      "cell_type": "code",
      "source": [
        "lista1 is lista3"
      ],
      "metadata": {
        "colab": {
          "base_uri": "https://localhost:8080/"
        },
        "id": "3sMEwS5x_rYN",
        "outputId": "0af4cb35-328c-4bab-9914-b19ea5e93ad7"
      },
      "execution_count": null,
      "outputs": [
        {
          "output_type": "execute_result",
          "data": {
            "text/plain": [
              "True"
            ]
          },
          "metadata": {},
          "execution_count": 30
        }
      ]
    },
    {
      "cell_type": "code",
      "source": [
        "lista4 = None"
      ],
      "metadata": {
        "id": "vKYctWKiANfq"
      },
      "execution_count": null,
      "outputs": []
    },
    {
      "cell_type": "code",
      "source": [
        "lista4 is None"
      ],
      "metadata": {
        "colab": {
          "base_uri": "https://localhost:8080/"
        },
        "id": "JJB_jwCgAQnR",
        "outputId": "208782f9-1acd-40d6-e52b-cc90c69e2782"
      },
      "execution_count": null,
      "outputs": [
        {
          "output_type": "execute_result",
          "data": {
            "text/plain": [
              "True"
            ]
          },
          "metadata": {},
          "execution_count": 35
        }
      ]
    },
    {
      "cell_type": "code",
      "source": [
        "lista4 == None"
      ],
      "metadata": {
        "colab": {
          "base_uri": "https://localhost:8080/"
        },
        "id": "w_hPEG2DAT2-",
        "outputId": "10f3be5a-0134-43cf-8119-507212a952b4"
      },
      "execution_count": null,
      "outputs": [
        {
          "output_type": "execute_result",
          "data": {
            "text/plain": [
              "True"
            ]
          },
          "metadata": {},
          "execution_count": 36
        }
      ]
    },
    {
      "cell_type": "code",
      "source": [
        "none"
      ],
      "metadata": {
        "colab": {
          "base_uri": "https://localhost:8080/",
          "height": 166
        },
        "id": "DDV5Mu1GAxMG",
        "outputId": "b227e98f-8a47-4cc8-ef8b-22819aee4d92"
      },
      "execution_count": null,
      "outputs": [
        {
          "output_type": "error",
          "ename": "NameError",
          "evalue": "ignored",
          "traceback": [
            "\u001b[0;31m---------------------------------------------------------------------------\u001b[0m",
            "\u001b[0;31mNameError\u001b[0m                                 Traceback (most recent call last)",
            "\u001b[0;32m<ipython-input-37-02135ff9133d>\u001b[0m in \u001b[0;36m<module>\u001b[0;34m()\u001b[0m\n\u001b[0;32m----> 1\u001b[0;31m \u001b[0mnone\u001b[0m\u001b[0;34m\u001b[0m\u001b[0;34m\u001b[0m\u001b[0m\n\u001b[0m",
            "\u001b[0;31mNameError\u001b[0m: name 'none' is not defined"
          ]
        }
      ]
    },
    {
      "cell_type": "markdown",
      "metadata": {
        "id": "70fps32aJbVy"
      },
      "source": [
        "### Conectivo de Conjunção"
      ]
    },
    {
      "cell_type": "code",
      "source": [
        "1 < 2 and 3 < 4"
      ],
      "metadata": {
        "id": "VWsaA74j9aEH",
        "colab": {
          "base_uri": "https://localhost:8080/"
        },
        "outputId": "5cf08476-dd4a-42b8-ced7-dcd86eb903a4"
      },
      "execution_count": null,
      "outputs": [
        {
          "output_type": "execute_result",
          "data": {
            "text/plain": [
              "True"
            ]
          },
          "metadata": {},
          "execution_count": 38
        }
      ]
    },
    {
      "cell_type": "code",
      "source": [
        "2 < 1 and 4 < 3"
      ],
      "metadata": {
        "colab": {
          "base_uri": "https://localhost:8080/"
        },
        "id": "vmpg2TywBMeI",
        "outputId": "ae7a87ed-52e0-44f9-95d2-533b05de7799"
      },
      "execution_count": null,
      "outputs": [
        {
          "output_type": "execute_result",
          "data": {
            "text/plain": [
              "False"
            ]
          },
          "metadata": {},
          "execution_count": 39
        }
      ]
    },
    {
      "cell_type": "code",
      "source": [
        "1 < 2 and 4 < 3"
      ],
      "metadata": {
        "colab": {
          "base_uri": "https://localhost:8080/"
        },
        "id": "1aJNZPAIBVGY",
        "outputId": "a837f4b9-0a62-4b6b-b8e3-336a64cf59b0"
      },
      "execution_count": null,
      "outputs": [
        {
          "output_type": "execute_result",
          "data": {
            "text/plain": [
              "False"
            ]
          },
          "metadata": {},
          "execution_count": 40
        }
      ]
    },
    {
      "cell_type": "code",
      "source": [
        "2 < 1 and 3 < 4"
      ],
      "metadata": {
        "colab": {
          "base_uri": "https://localhost:8080/"
        },
        "id": "GxikaDgFBa52",
        "outputId": "5f8d8b06-08af-4099-d76d-ca67ba127f50"
      },
      "execution_count": null,
      "outputs": [
        {
          "output_type": "execute_result",
          "data": {
            "text/plain": [
              "False"
            ]
          },
          "metadata": {},
          "execution_count": 41
        }
      ]
    },
    {
      "cell_type": "markdown",
      "metadata": {
        "id": "eqAas0JlJbVz"
      },
      "source": [
        "### Conectivo de Disjunção"
      ]
    },
    {
      "cell_type": "code",
      "source": [
        "1 < 2 or 3 < 4"
      ],
      "metadata": {
        "id": "2r6gU53y9tJs",
        "colab": {
          "base_uri": "https://localhost:8080/"
        },
        "outputId": "793a2869-21f2-4408-c387-f1f304745a6f"
      },
      "execution_count": null,
      "outputs": [
        {
          "output_type": "execute_result",
          "data": {
            "text/plain": [
              "True"
            ]
          },
          "metadata": {},
          "execution_count": 42
        }
      ]
    },
    {
      "cell_type": "code",
      "source": [
        "2 < 1 or 3 < 4"
      ],
      "metadata": {
        "colab": {
          "base_uri": "https://localhost:8080/"
        },
        "id": "1F54EoSfBvG4",
        "outputId": "637b99a3-789b-49e4-a64e-aaa053a561ae"
      },
      "execution_count": null,
      "outputs": [
        {
          "output_type": "execute_result",
          "data": {
            "text/plain": [
              "True"
            ]
          },
          "metadata": {},
          "execution_count": 44
        }
      ]
    },
    {
      "cell_type": "markdown",
      "source": [
        "### Not"
      ],
      "metadata": {
        "id": "8XkFrBOq-AD4"
      }
    },
    {
      "cell_type": "code",
      "execution_count": null,
      "metadata": {
        "id": "Sr_ocfoNaGuM"
      },
      "outputs": [],
      "source": [
        "verdade = 1 < 2"
      ]
    },
    {
      "cell_type": "code",
      "source": [
        "verdade"
      ],
      "metadata": {
        "colab": {
          "base_uri": "https://localhost:8080/"
        },
        "id": "lN7D5wd8CIGZ",
        "outputId": "3c9bb951-6b19-47ec-d3f3-9a6225489019"
      },
      "execution_count": null,
      "outputs": [
        {
          "output_type": "execute_result",
          "data": {
            "text/plain": [
              "True"
            ]
          },
          "metadata": {},
          "execution_count": 46
        }
      ]
    },
    {
      "cell_type": "code",
      "source": [
        "not verdade"
      ],
      "metadata": {
        "colab": {
          "base_uri": "https://localhost:8080/"
        },
        "id": "MUERU_BXCKiu",
        "outputId": "1591100b-bfdf-4f8c-f0f3-318dfe10f41f"
      },
      "execution_count": null,
      "outputs": [
        {
          "output_type": "execute_result",
          "data": {
            "text/plain": [
              "False"
            ]
          },
          "metadata": {},
          "execution_count": 47
        }
      ]
    },
    {
      "cell_type": "code",
      "source": [
        "not False"
      ],
      "metadata": {
        "colab": {
          "base_uri": "https://localhost:8080/"
        },
        "id": "zbRiwuR_CQcR",
        "outputId": "e6f68aa6-40e5-4535-840b-a32395916a86"
      },
      "execution_count": null,
      "outputs": [
        {
          "output_type": "execute_result",
          "data": {
            "text/plain": [
              "True"
            ]
          },
          "metadata": {},
          "execution_count": 48
        }
      ]
    },
    {
      "cell_type": "code",
      "source": [
        "not True == False"
      ],
      "metadata": {
        "colab": {
          "base_uri": "https://localhost:8080/"
        },
        "id": "BfNR6qmkCU5o",
        "outputId": "9a5a2e0d-8ca4-4246-f8c5-27da7b1a9ff6"
      },
      "execution_count": null,
      "outputs": [
        {
          "output_type": "execute_result",
          "data": {
            "text/plain": [
              "True"
            ]
          },
          "metadata": {},
          "execution_count": 49
        }
      ]
    },
    {
      "cell_type": "code",
      "source": [
        "False == not True"
      ],
      "metadata": {
        "colab": {
          "base_uri": "https://localhost:8080/",
          "height": 131
        },
        "id": "s2BMj38zCaTM",
        "outputId": "4550789b-266f-40d7-e5ff-dc377a1a3a48"
      },
      "execution_count": null,
      "outputs": [
        {
          "output_type": "error",
          "ename": "SyntaxError",
          "evalue": "ignored",
          "traceback": [
            "\u001b[0;36m  File \u001b[0;32m\"<ipython-input-50-cc226ff734ef>\"\u001b[0;36m, line \u001b[0;32m1\u001b[0m\n\u001b[0;31m    False == not True\u001b[0m\n\u001b[0m               ^\u001b[0m\n\u001b[0;31mSyntaxError\u001b[0m\u001b[0;31m:\u001b[0m invalid syntax\n"
          ]
        }
      ]
    },
    {
      "cell_type": "code",
      "source": [
        "False == (not True)"
      ],
      "metadata": {
        "colab": {
          "base_uri": "https://localhost:8080/"
        },
        "id": "SBKX71EMChjo",
        "outputId": "26a6ac32-d38f-4409-d950-1d092deb9ebc"
      },
      "execution_count": null,
      "outputs": [
        {
          "output_type": "execute_result",
          "data": {
            "text/plain": [
              "True"
            ]
          },
          "metadata": {},
          "execution_count": 51
        }
      ]
    },
    {
      "cell_type": "code",
      "source": [
        "A B C    (A or B)     (A or B) and C\n",
        "V V V       V               V  \n",
        "V V F       V               F\n",
        "V F V       V               V\n",
        "V F F       V               F\n",
        "F V V       V               V\n",
        "F V F       V               F\n",
        "F F V       F               F\n",
        "F F F       F               F"
      ],
      "metadata": {
        "id": "TZUbh_4YCoSz"
      },
      "execution_count": null,
      "outputs": []
    },
    {
      "cell_type": "markdown",
      "metadata": {
        "id": "WHPyuUBUJbV0"
      },
      "source": [
        "### Controle de Fluxo (IF)"
      ]
    },
    {
      "cell_type": "markdown",
      "metadata": {
        "id": "WAoTiFQ1JbV0"
      },
      "source": [
        "#### Execução condicional"
      ]
    },
    {
      "cell_type": "code",
      "execution_count": null,
      "metadata": {
        "id": "IUpX09ZGlrRf",
        "colab": {
          "base_uri": "https://localhost:8080/"
        },
        "outputId": "a119d5a6-2439-40d0-9b5b-1fbf6d450a9d"
      },
      "outputs": [
        {
          "output_type": "stream",
          "name": "stdout",
          "text": [
            "Digite um valor 5\n",
            "Acabou\n"
          ]
        }
      ],
      "source": [
        "x = int(input(\"Digite um valor \"))\n",
        "if x % 2 == 0:\n",
        "  print(\"É par\")\n",
        "  print(\"Outro comando\")\n",
        "print(\"Acabou\")"
      ]
    },
    {
      "cell_type": "code",
      "source": [
        "if x % 2 == 0:\n",
        "  print(\"É par\")"
      ],
      "metadata": {
        "colab": {
          "base_uri": "https://localhost:8080/"
        },
        "id": "VHXjmyqHE0vB",
        "outputId": "4b2b94ba-56b2-4234-d5c3-ad13890d521a"
      },
      "execution_count": null,
      "outputs": [
        {
          "output_type": "execute_result",
          "data": {
            "text/plain": [
              "True"
            ]
          },
          "metadata": {},
          "execution_count": 53
        }
      ]
    },
    {
      "cell_type": "code",
      "source": [
        "x = int(input(\"Digite um valor \"))\n",
        "if x % 2 == 0:\n",
        "  print(\"É par\")\n",
        "  print(\"Outro comando\")\n",
        "else:\n",
        "  print(\"é impar\")\n",
        "print(\"Acabou\")"
      ],
      "metadata": {
        "colab": {
          "base_uri": "https://localhost:8080/"
        },
        "id": "exV5vFReGAO5",
        "outputId": "2658614a-9044-46f6-9e01-e4a80a810f7e"
      },
      "execution_count": null,
      "outputs": [
        {
          "output_type": "stream",
          "name": "stdout",
          "text": [
            "Digite um valor 5\n",
            "é impar\n",
            "Acabou\n"
          ]
        }
      ]
    },
    {
      "cell_type": "code",
      "source": [
        "x = int(input(\"Digite um valor \"))\n",
        "if x >= 10:\n",
        "  print(\"é maior ou igual a 10\")\n",
        "if x % 2 == 0:\n",
        "  print(\"É par\")\n",
        "  print(\"Outro comando\")\n",
        "else:\n",
        "  print(\"é impar\")\n",
        "print(\"Acabou\")"
      ],
      "metadata": {
        "colab": {
          "base_uri": "https://localhost:8080/"
        },
        "id": "ZVnprGcsGbAz",
        "outputId": "8c2b4033-cf64-4a5d-b967-635d4d7c1dce"
      },
      "execution_count": null,
      "outputs": [
        {
          "output_type": "stream",
          "name": "stdout",
          "text": [
            "Digite um valor 12\n",
            "é maior ou igual a 10\n",
            "É par\n",
            "Outro comando\n",
            "Acabou\n"
          ]
        }
      ]
    },
    {
      "cell_type": "code",
      "source": [
        "alunos_matriculados = [\"Maria\", \"Joao\", \"Jose\"]"
      ],
      "metadata": {
        "id": "mHmHWa1FHDII"
      },
      "execution_count": null,
      "outputs": []
    },
    {
      "cell_type": "code",
      "source": [
        "nome = input(\"Digite o nome de um aluno\")\n",
        "if nome in alunos_matriculados:\n",
        "  print(nome, \"está matriculado\")\n",
        "else:\n",
        "  print(nome, \"não está matriculado\")"
      ],
      "metadata": {
        "id": "MpJKrDIlHM3t"
      },
      "execution_count": null,
      "outputs": []
    },
    {
      "cell_type": "markdown",
      "metadata": {
        "id": "LQ--KmLDJbV1"
      },
      "source": [
        "#### Execuação alternativa"
      ]
    },
    {
      "cell_type": "code",
      "execution_count": null,
      "metadata": {
        "id": "SilQqvbyJbV1",
        "colab": {
          "base_uri": "https://localhost:8080/"
        },
        "outputId": "0466b663-9f6e-407d-f2cd-071f66a08ad2"
      },
      "outputs": [
        {
          "output_type": "stream",
          "name": "stdout",
          "text": [
            "10 é menor que 20\n"
          ]
        }
      ],
      "source": [
        "x = 10\n",
        "y = 20\n",
        "if x < y:\n",
        "\tprint(x, \"é menor que\", y)\n",
        "elif x > y :\n",
        "\tprint(x, \"é maior que\", y)\n",
        "else:\n",
        "\tprint(x, \"é igual a\", y)"
      ]
    },
    {
      "cell_type": "markdown",
      "metadata": {
        "id": "BKCKq5k0JbV1"
      },
      "source": [
        "#### Condicionais encadeados"
      ]
    },
    {
      "cell_type": "code",
      "source": [
        "mes = int(input(\"Digite um mes (1, 12)\"))\n",
        "\n",
        "if mes == 1:\n",
        "  print(\"Janeiro\")\n",
        "elif mes == 2:\n",
        "  print(\"Fevereiro\")\n",
        "elif mes == 3:\n",
        "  print(\"Marco\")\n",
        "elif mes == 4:\n",
        "  print(\"Abril\")\n",
        "elif mes == 5:\n",
        "  print(\"Maio\")\n",
        "elif mes == 6:\n",
        "  print(\"Junho\")\n",
        "elif mes == 7:\n",
        "  print(\"Julho\")\n",
        "elif mes == 8:\n",
        "  print(\"Agosto\")\n",
        "elif mes == 9:\n",
        "  print(\"Setembro\")\n",
        "elif mes == 10:\n",
        "  print(\"Outubro\")\n",
        "elif mes == 11:\n",
        "  print(\"Novembro\")\n",
        "elif mes == 12:\n",
        "  print(\"Dezembro\")\n",
        "else:\n",
        "  print(\"Mês não é valido\")"
      ],
      "metadata": {
        "colab": {
          "base_uri": "https://localhost:8080/"
        },
        "id": "G88sMtnDI73h",
        "outputId": "8037f485-468a-4a09-d519-47a86734aad9"
      },
      "execution_count": null,
      "outputs": [
        {
          "output_type": "stream",
          "name": "stdout",
          "text": [
            "Digite um mes (1, 12)12\n",
            "Dezembro\n"
          ]
        }
      ]
    },
    {
      "cell_type": "code",
      "source": [
        ""
      ],
      "metadata": {
        "id": "3GnXIfgVKGqO"
      },
      "execution_count": null,
      "outputs": []
    },
    {
      "cell_type": "markdown",
      "metadata": {
        "id": "V2amm_WAJbV2"
      },
      "source": [
        "#### Condicionais aninhados"
      ]
    },
    {
      "cell_type": "code",
      "source": [
        "x = int(input(\"Digite um valor \"))\n",
        "if x >= 10:\n",
        "  print(\"é maior ou igual a 10\")\n",
        "  if x % 2 == 0:\n",
        "    print(\"É par\")\n",
        "    print(\"Outro comando\")\n",
        "  else:\n",
        "    print(\"é impar\")\n",
        "else:\n",
        "  print(\"é menor que 10\")\n",
        "print(\"Acabou\")"
      ],
      "metadata": {
        "id": "H1tmuOGrlJtJ",
        "colab": {
          "base_uri": "https://localhost:8080/"
        },
        "outputId": "b2270a81-cb7e-48d2-c0ce-848cca74ad08"
      },
      "execution_count": null,
      "outputs": [
        {
          "output_type": "stream",
          "name": "stdout",
          "text": [
            "Digite um valor 6\n",
            "é menor que 10\n",
            "Acabou\n"
          ]
        }
      ]
    },
    {
      "cell_type": "code",
      "source": [
        "x = int(input(\"Digite um valor \"))\n",
        "if x >= 10:\n",
        "  print(\"é maior ou igual a 10\")\n",
        "  if x % 2 == 0:\n",
        "    print(\"par\")\n",
        "  else:\n",
        "    print(\"impar\")\n",
        "else:\n",
        "  print(\"é menor que 10\")"
      ],
      "metadata": {
        "colab": {
          "base_uri": "https://localhost:8080/"
        },
        "id": "V-7XgvgvLV6V",
        "outputId": "619c6ac3-9add-4dae-d8a2-1652f2924e30"
      },
      "execution_count": null,
      "outputs": [
        {
          "output_type": "stream",
          "name": "stdout",
          "text": [
            "Digite um valor 8\n",
            "é menor que 10\n"
          ]
        }
      ]
    },
    {
      "cell_type": "code",
      "source": [
        "x = int(input(\"Digite um valor \"))\n",
        "if x >= 10 and x % 2 == 0:\n",
        "  print(\"é maior ou igual a 10 e par\")\n",
        "elif x >= 10 and x % 2 != 0:\n",
        "  print(\"é maior ou igual a 10 e impar\")\n",
        "else:\n",
        "  print(\"é menor que 10\")"
      ],
      "metadata": {
        "colab": {
          "base_uri": "https://localhost:8080/"
        },
        "id": "cfsNs0uWMaT6",
        "outputId": "916fb456-084e-4be6-d2f9-8f788db638c3"
      },
      "execution_count": null,
      "outputs": [
        {
          "output_type": "stream",
          "name": "stdout",
          "text": [
            "Digite um valor 3\n",
            "é menor que 10\n"
          ]
        }
      ]
    },
    {
      "cell_type": "code",
      "source": [
        "x = int(input(\"Digite um valor \"))\n",
        "if (x >= 10) and (x % 2 == 0):\n",
        "  print(\"é maior ou igual a 10 e par\")\n",
        "elif (x >= 10) and (x % 2 != 0):\n",
        "  print(\"é maior ou igual a 10 e impar\")\n",
        "else:\n",
        "  print(\"é menor que 10\")"
      ],
      "metadata": {
        "colab": {
          "base_uri": "https://localhost:8080/"
        },
        "id": "_DSzzgqVP9p2",
        "outputId": "45366cbc-3282-45ba-a67a-222029971050"
      },
      "execution_count": null,
      "outputs": [
        {
          "output_type": "stream",
          "name": "stdout",
          "text": [
            "Digite um valor 12\n",
            "é maior ou igual a 10 e par\n"
          ]
        }
      ]
    },
    {
      "cell_type": "markdown",
      "metadata": {
        "id": "Z0Ycm5nrJbV2"
      },
      "source": [
        "### Controle de Fluxo (WHILE)"
      ]
    },
    {
      "cell_type": "code",
      "source": [
        "i = 0\n",
        "while i < 10:\n",
        "  print(\"Valor de i:\", i)\n",
        "  i = i + 1\n",
        "print(\"Finalizou\")"
      ],
      "metadata": {
        "id": "B77WtV-eiNTV",
        "colab": {
          "base_uri": "https://localhost:8080/"
        },
        "outputId": "42634f3d-edf6-4d07-ca16-58bc38da55a4"
      },
      "execution_count": null,
      "outputs": [
        {
          "output_type": "stream",
          "name": "stdout",
          "text": [
            "Valor de i: 0\n",
            "Valor de i: 1\n",
            "Valor de i: 2\n",
            "Valor de i: 3\n",
            "Valor de i: 4\n",
            "Valor de i: 5\n",
            "Valor de i: 6\n",
            "Valor de i: 7\n",
            "Valor de i: 8\n",
            "Valor de i: 9\n",
            "Finalizou\n"
          ]
        }
      ]
    },
    {
      "cell_type": "code",
      "source": [
        "numero = int(input(\"Digite um numero\"))\n",
        "while numero >= 0:\n",
        "  print(\"Número é positivo\")\n",
        "  numero = int(input(\"Digite um numero\"))"
      ],
      "metadata": {
        "colab": {
          "base_uri": "https://localhost:8080/"
        },
        "id": "-qzc5U7fSHfh",
        "outputId": "494253fc-5983-478a-dcf3-cbbeaea73503"
      },
      "execution_count": null,
      "outputs": [
        {
          "name": "stdout",
          "output_type": "stream",
          "text": [
            "Digite um numero2\n",
            "Número é positivo\n",
            "Digite um numero6\n",
            "Número é positivo\n",
            "Digite um numero8\n",
            "Número é positivo\n",
            "Digite um numero-1\n"
          ]
        }
      ]
    },
    {
      "cell_type": "code",
      "source": [
        "notas = []\n",
        "x = int(input(\"Digite um nota: \"))\n",
        "notas.append(x)\n",
        "x = int(input(\"Digite um nota: \"))\n",
        "notas.append(x)\n",
        "x = int(input(\"Digite um nota: \"))\n",
        "notas.append(x)"
      ],
      "metadata": {
        "colab": {
          "base_uri": "https://localhost:8080/"
        },
        "id": "sUrpMjmbTJHD",
        "outputId": "3e027891-d74b-456d-bc30-39cb33042ce5"
      },
      "execution_count": null,
      "outputs": [
        {
          "name": "stdout",
          "output_type": "stream",
          "text": [
            "Digite um nota: 8\n",
            "Digite um nota: 9\n",
            "Digite um nota: 5\n"
          ]
        }
      ]
    },
    {
      "cell_type": "code",
      "source": [
        "notas"
      ],
      "metadata": {
        "colab": {
          "base_uri": "https://localhost:8080/"
        },
        "id": "Jto9fvmKTgOh",
        "outputId": "a5959b0b-b7ba-4986-90dc-53dc5fa68eb2"
      },
      "execution_count": null,
      "outputs": [
        {
          "output_type": "execute_result",
          "data": {
            "text/plain": [
              "[8, 9, 5]"
            ]
          },
          "metadata": {},
          "execution_count": 100
        }
      ]
    },
    {
      "cell_type": "code",
      "source": [
        "notas = []\n",
        "qtde = int(input(\"Digite a quantidade de notas que deseja inserir na lista: \"))\n",
        "contador = 0\n",
        "while contador < qtde:\n",
        "  x = int(input(f\"Digite a {contador+1} nota: \"))\n",
        "  notas.append(x)\n",
        "  #contador = contador + 1\n",
        "  contador += 1\n",
        "print(f\"Maior nota: {max(notas)}\")\n",
        "print(f\"Média das notas: {sum(notas)/len(notas)}\")"
      ],
      "metadata": {
        "colab": {
          "base_uri": "https://localhost:8080/"
        },
        "id": "PCE0qjsWTmwf",
        "outputId": "b0684bde-2bc0-4053-e750-7bfa3ff721a1"
      },
      "execution_count": null,
      "outputs": [
        {
          "output_type": "stream",
          "name": "stdout",
          "text": [
            "Digite a quantidade de notas que deseja inserir na lista: 3\n",
            "Digite a 1 nota: 7\n",
            "Digite a 2 nota: 5\n",
            "Digite a 3 nota: 9\n",
            "Maior nota: 9\n",
            "Média das notas: 7.0\n"
          ]
        }
      ]
    },
    {
      "cell_type": "code",
      "source": [
        "print(\"Maior nota:\", max(notas), \"outra\")\n",
        "print(\"Maior nota: \" + str(max(notas)) + \" outra\")\n",
        "print(f\"Maior nota: {max(notas)} outra\")"
      ],
      "metadata": {
        "colab": {
          "base_uri": "https://localhost:8080/"
        },
        "id": "K2OxzUxNUjIb",
        "outputId": "a29fb615-524e-4e9d-d13d-921b5132a320"
      },
      "execution_count": null,
      "outputs": [
        {
          "output_type": "stream",
          "name": "stdout",
          "text": [
            "Maior nota: 9 outra\n",
            "Maior nota: 9 outra\n",
            "Maior nota: 9 outra\n"
          ]
        }
      ]
    },
    {
      "cell_type": "code",
      "source": [
        "notas"
      ],
      "metadata": {
        "colab": {
          "base_uri": "https://localhost:8080/"
        },
        "id": "qlSqTir5UYtx",
        "outputId": "bb438e29-235f-4c8e-fa13-7ead1aa85a87"
      },
      "execution_count": null,
      "outputs": [
        {
          "output_type": "execute_result",
          "data": {
            "text/plain": [
              "[5, 9]"
            ]
          },
          "metadata": {},
          "execution_count": 102
        }
      ]
    },
    {
      "cell_type": "code",
      "source": [
        "del resultado"
      ],
      "metadata": {
        "id": "N1Xmug37XniG"
      },
      "execution_count": null,
      "outputs": []
    },
    {
      "cell_type": "code",
      "source": [
        "while True:\n",
        "  opcao = int(input(\"Digite uma opção: 1 - soma, 2 - sub, 3 - multiplição, 0 - terminar \"))\n",
        "\n",
        "  if opcao == 0:\n",
        "    break\n",
        "\n",
        "  if opcao < 1 or opcao > 3:\n",
        "    print(\"Opção invalida\")\n",
        "    continue\n",
        "\n",
        "  valor1 = int(input(\"Digite o primeiro valor \"))\n",
        "  valor2 = int(input(\"Digite o segundo valor \"))\n",
        "\n",
        "  if opcao == 1:\n",
        "    resultado = valor1 + valor2\n",
        "  elif opcao == 2:\n",
        "    resultado = valor1 - valor2\n",
        "  elif opcao == 3:\n",
        "    resultado = valor1 * valor2\n",
        "  else:\n",
        "    print(\"valor invalido\")\n",
        "  print(\"O resultado é\", resultado)\n",
        "print(\"Fim\")"
      ],
      "metadata": {
        "colab": {
          "base_uri": "https://localhost:8080/"
        },
        "id": "ne79uPPmWGwC",
        "outputId": "116d6271-0f24-4a1e-ac31-58a852624b1d"
      },
      "execution_count": null,
      "outputs": [
        {
          "output_type": "stream",
          "name": "stdout",
          "text": [
            "Digite uma opção: 1 - soma, 2 - sub, 3 - multiplição, 0 - terminar -1\n",
            "Opção invalida\n",
            "Digite uma opção: 1 - soma, 2 - sub, 3 - multiplição, 0 - terminar 2\n",
            "Digite o primeiro valor 9\n",
            "Digite o segundo valor 3\n",
            "O resultado é 6\n",
            "Digite uma opção: 1 - soma, 2 - sub, 3 - multiplição, 0 - terminar 4\n",
            "Opção invalida\n",
            "Digite uma opção: 1 - soma, 2 - sub, 3 - multiplição, 0 - terminar 0\n",
            "Fim\n"
          ]
        }
      ]
    },
    {
      "cell_type": "code",
      "source": [
        "while True:\n",
        "  opcao = int(input(\"Digite uma opção: 1 - soma, 2 - sub, 3 - multiplição, 0 - terminar \"))\n",
        "\n",
        "  if opcao == 0:\n",
        "    break\n",
        "\n",
        "  if opcao < 1 or opcao > 3:\n",
        "    print(\"Opção invalida\")\n",
        "    continue\n",
        "\n",
        "  valor1 = int(input(\"Digite o primeiro valor \"))\n",
        "  valor2 = int(input(\"Digite o segundo valor \"))\n",
        "\n",
        "  if opcao == 1:\n",
        "    resultado = valor1 + valor2\n",
        "  elif opcao == 2:\n",
        "    resultado = valor1 - valor2\n",
        "  else:\n",
        "    resultado = valor1 * valor2\n",
        "print(\"Fim\")"
      ],
      "metadata": {
        "id": "TobcWx30aJ2p"
      },
      "execution_count": null,
      "outputs": []
    },
    {
      "cell_type": "code",
      "source": [
        "resultado"
      ],
      "metadata": {
        "colab": {
          "base_uri": "https://localhost:8080/"
        },
        "id": "yax0t7EEXfe7",
        "outputId": "168fde09-5486-4ed4-c93a-a9f3ff432170"
      },
      "execution_count": null,
      "outputs": [
        {
          "output_type": "execute_result",
          "data": {
            "text/plain": [
              "6"
            ]
          },
          "metadata": {},
          "execution_count": 118
        }
      ]
    },
    {
      "cell_type": "markdown",
      "metadata": {
        "id": "TFXjWQu_JbV3"
      },
      "source": [
        "### Controle de Fluxo (FOR)"
      ]
    },
    {
      "cell_type": "code",
      "source": [
        "list(range(5))"
      ],
      "metadata": {
        "colab": {
          "base_uri": "https://localhost:8080/"
        },
        "id": "N_Ct0JWQaspZ",
        "outputId": "6866ce5f-d671-4d8f-a5a5-e4e96f12ebf1"
      },
      "execution_count": null,
      "outputs": [
        {
          "output_type": "execute_result",
          "data": {
            "text/plain": [
              "[0, 1, 2, 3, 4]"
            ]
          },
          "metadata": {},
          "execution_count": 128
        }
      ]
    },
    {
      "cell_type": "code",
      "source": [
        "for i in range(5):\n",
        "  print(i)"
      ],
      "metadata": {
        "id": "wFdZaaRQe3Fs",
        "colab": {
          "base_uri": "https://localhost:8080/"
        },
        "outputId": "a9ee419d-aba0-48e1-cf29-33ab7fc554b4"
      },
      "execution_count": null,
      "outputs": [
        {
          "output_type": "stream",
          "name": "stdout",
          "text": [
            "0\n",
            "1\n",
            "2\n",
            "3\n",
            "4\n"
          ]
        }
      ]
    },
    {
      "cell_type": "code",
      "source": [
        "for i in range(5):\n",
        "  i = i+1\n",
        "  print(\"Valor de i:\", i)"
      ],
      "metadata": {
        "id": "PKNovbpSbHRr"
      },
      "execution_count": null,
      "outputs": []
    },
    {
      "cell_type": "code",
      "source": [
        "for letra in \"Python\":\n",
        "  print(\"Python\"[0])"
      ],
      "metadata": {
        "colab": {
          "base_uri": "https://localhost:8080/"
        },
        "id": "svIflmNtblK3",
        "outputId": "b3167cb2-af4f-4895-bb8c-bdb9891357e2"
      },
      "execution_count": null,
      "outputs": [
        {
          "output_type": "stream",
          "name": "stdout",
          "text": [
            "P\n",
            "P\n",
            "P\n",
            "P\n",
            "P\n",
            "P\n"
          ]
        }
      ]
    },
    {
      "cell_type": "code",
      "source": [
        "lista = [8, 9, 7, 4]\n",
        "for elemento in lista:\n",
        "  print(elemento)"
      ],
      "metadata": {
        "colab": {
          "base_uri": "https://localhost:8080/"
        },
        "id": "iX09mxCIcKF5",
        "outputId": "4e98f093-5908-4777-92a1-4ee44b64b712"
      },
      "execution_count": null,
      "outputs": [
        {
          "output_type": "stream",
          "name": "stdout",
          "text": [
            "8\n",
            "9\n",
            "7\n",
            "4\n"
          ]
        }
      ]
    },
    {
      "cell_type": "code",
      "source": [
        "notas = []\n",
        "qtde = int(input(\"Digite a quantidade de notas que deseja inserir na lista: \"))\n",
        "contador = 0\n",
        "while contador < qtde:\n",
        "  x = int(input(f\"Digite a {contador+1} nota: \"))\n",
        "  notas.append(x)\n",
        "  #contador = contador + 1\n",
        "  contador += 1\n",
        "print(f\"Maior nota: {max(notas)}\")\n",
        "print(f\"Média das notas: {sum(notas)/len(notas)}\")"
      ],
      "metadata": {
        "id": "XJeSthXYcpaz"
      },
      "execution_count": null,
      "outputs": []
    },
    {
      "cell_type": "code",
      "source": [
        "notas = []\n",
        "qtde = int(input(\"Digite a quantidade de notas que deseja inserir na lista: \"))\n",
        "for contador in range(qtde):\n",
        "  x = int(input(f\"Digite a {contador+1} nota: \"))\n",
        "  notas.append(x)\n",
        "print(f\"Maior nota: {max(notas)}\")\n",
        "print(f\"Média das notas: {sum(notas)/len(notas)}\")"
      ],
      "metadata": {
        "colab": {
          "base_uri": "https://localhost:8080/"
        },
        "id": "qRSIOj1XcyxJ",
        "outputId": "a7e4535e-6acf-4458-bfcc-263afd9e613f"
      },
      "execution_count": null,
      "outputs": [
        {
          "output_type": "stream",
          "name": "stdout",
          "text": [
            "Digite a quantidade de notas que deseja inserir na lista: 3\n",
            "Digite a 1 nota: 8\n",
            "Digite a 2 nota: 5\n",
            "Digite a 3 nota: 2\n",
            "Maior nota: 8\n",
            "Média das notas: 5.0\n"
          ]
        }
      ]
    },
    {
      "cell_type": "code",
      "source": [
        "list(range(qtde))"
      ],
      "metadata": {
        "colab": {
          "base_uri": "https://localhost:8080/"
        },
        "id": "SW6MseS0dUZ1",
        "outputId": "43cfd35a-3944-47b4-ba2d-e4cd282ae326"
      },
      "execution_count": null,
      "outputs": [
        {
          "output_type": "execute_result",
          "data": {
            "text/plain": [
              "[0, 1, 2, 3]"
            ]
          },
          "metadata": {},
          "execution_count": 138
        }
      ]
    },
    {
      "cell_type": "code",
      "source": [
        "alunos = {\"Maria\": 9, \"Joao\": 5, \"Jose\": 6}"
      ],
      "metadata": {
        "id": "HYJxyaYSduOi"
      },
      "execution_count": null,
      "outputs": []
    },
    {
      "cell_type": "code",
      "source": [
        "alunos.keys()"
      ],
      "metadata": {
        "colab": {
          "base_uri": "https://localhost:8080/"
        },
        "id": "jMbMdC7Jd2Wf",
        "outputId": "f72bb709-9925-4739-a617-370fdcc8cd2a"
      },
      "execution_count": null,
      "outputs": [
        {
          "output_type": "execute_result",
          "data": {
            "text/plain": [
              "dict_keys(['Maria', 'Joao', 'Jose'])"
            ]
          },
          "metadata": {},
          "execution_count": 141
        }
      ]
    },
    {
      "cell_type": "code",
      "source": [
        "alunos.values()"
      ],
      "metadata": {
        "colab": {
          "base_uri": "https://localhost:8080/"
        },
        "id": "_z-gPEcXd9dB",
        "outputId": "ecc8cda6-d596-4f1b-dd7e-fbea8171514d"
      },
      "execution_count": null,
      "outputs": [
        {
          "output_type": "execute_result",
          "data": {
            "text/plain": [
              "dict_values([9, 5, 6])"
            ]
          },
          "metadata": {},
          "execution_count": 142
        }
      ]
    },
    {
      "cell_type": "code",
      "source": [
        "alunos.items()"
      ],
      "metadata": {
        "colab": {
          "base_uri": "https://localhost:8080/"
        },
        "id": "4JbcYWS0eEVn",
        "outputId": "951e4b2e-c39e-41fb-be29-2dea36f09797"
      },
      "execution_count": null,
      "outputs": [
        {
          "output_type": "execute_result",
          "data": {
            "text/plain": [
              "dict_items([('Maria', 9), ('Joao', 5), ('Jose', 6)])"
            ]
          },
          "metadata": {},
          "execution_count": 143
        }
      ]
    },
    {
      "cell_type": "code",
      "source": [
        "for nome, nota in alunos.items():\n",
        "  print(f\"O aluno {nome} tirou {nota}\")"
      ],
      "metadata": {
        "colab": {
          "base_uri": "https://localhost:8080/"
        },
        "id": "v-vTHCaCeMw3",
        "outputId": "fc9d932e-e574-449a-c66d-ec3eb5518617"
      },
      "execution_count": null,
      "outputs": [
        {
          "output_type": "stream",
          "name": "stdout",
          "text": [
            "O aluno Maria tirou 9\n",
            "O aluno Joao tirou 5\n",
            "O aluno Jose tirou 6\n"
          ]
        }
      ]
    },
    {
      "cell_type": "code",
      "source": [
        "for chave in alunos.keys():\n",
        "  print(f\"O aluno {chave} tirou {alunos[chave]}\")"
      ],
      "metadata": {
        "colab": {
          "base_uri": "https://localhost:8080/"
        },
        "id": "GJHbINXrehUF",
        "outputId": "5b7d4904-9bae-4169-ac21-9814a93ecdca"
      },
      "execution_count": null,
      "outputs": [
        {
          "output_type": "stream",
          "name": "stdout",
          "text": [
            "O aluno Maria tirou 9\n",
            "O aluno Joao tirou 5\n",
            "O aluno Jose tirou 6\n"
          ]
        }
      ]
    },
    {
      "cell_type": "code",
      "source": [
        "presidente = {(\"Barack\",\"Obama\"): [2009, 2005], (\"Joe\",\"Biden\"): 2016}"
      ],
      "metadata": {
        "id": "vJYNKEfGe9lz"
      },
      "execution_count": null,
      "outputs": []
    },
    {
      "cell_type": "code",
      "source": [
        "for chave in presidente.keys():\n",
        "  print(chave, presidente[chave][0])"
      ],
      "metadata": {
        "colab": {
          "base_uri": "https://localhost:8080/",
          "height": 200
        },
        "id": "YY8aPMl-fQ1g",
        "outputId": "2a7e0468-2109-4a21-be4a-f9e2a952473e"
      },
      "execution_count": null,
      "outputs": [
        {
          "output_type": "stream",
          "name": "stdout",
          "text": [
            "('Barack', 'Obama') 2009\n"
          ]
        },
        {
          "output_type": "error",
          "ename": "TypeError",
          "evalue": "ignored",
          "traceback": [
            "\u001b[0;31m---------------------------------------------------------------------------\u001b[0m",
            "\u001b[0;31mTypeError\u001b[0m                                 Traceback (most recent call last)",
            "\u001b[0;32m<ipython-input-158-5d4ced912c54>\u001b[0m in \u001b[0;36m<module>\u001b[0;34m()\u001b[0m\n\u001b[1;32m      1\u001b[0m \u001b[0;32mfor\u001b[0m \u001b[0mchave\u001b[0m \u001b[0;32min\u001b[0m \u001b[0mpresidente\u001b[0m\u001b[0;34m.\u001b[0m\u001b[0mkeys\u001b[0m\u001b[0;34m(\u001b[0m\u001b[0;34m)\u001b[0m\u001b[0;34m:\u001b[0m\u001b[0;34m\u001b[0m\u001b[0;34m\u001b[0m\u001b[0m\n\u001b[0;32m----> 2\u001b[0;31m   \u001b[0mprint\u001b[0m\u001b[0;34m(\u001b[0m\u001b[0mchave\u001b[0m\u001b[0;34m,\u001b[0m \u001b[0mpresidente\u001b[0m\u001b[0;34m[\u001b[0m\u001b[0mchave\u001b[0m\u001b[0;34m]\u001b[0m\u001b[0;34m[\u001b[0m\u001b[0;36m0\u001b[0m\u001b[0;34m]\u001b[0m\u001b[0;34m)\u001b[0m\u001b[0;34m\u001b[0m\u001b[0;34m\u001b[0m\u001b[0m\n\u001b[0m",
            "\u001b[0;31mTypeError\u001b[0m: 'int' object is not subscriptable"
          ]
        }
      ]
    },
    {
      "cell_type": "markdown",
      "source": [
        "### Loops aninhados"
      ],
      "metadata": {
        "id": "YFnqoHYXuDWd"
      }
    },
    {
      "cell_type": "code",
      "source": [
        "for i in range(1, 4):\n",
        "  for j in range(4, 7):\n",
        "    print(f\"i = {i} e j = {j}\")"
      ],
      "metadata": {
        "id": "DvmuV0bHuIel",
        "colab": {
          "base_uri": "https://localhost:8080/"
        },
        "outputId": "29f1f80a-bf6b-4de0-b112-48595571d338"
      },
      "execution_count": null,
      "outputs": [
        {
          "output_type": "stream",
          "name": "stdout",
          "text": [
            "i = 1 e j = 4\n",
            "i = 1 e j = 5\n",
            "i = 1 e j = 6\n",
            "i = 2 e j = 4\n",
            "i = 2 e j = 5\n",
            "i = 2 e j = 6\n",
            "i = 3 e j = 4\n",
            "i = 3 e j = 5\n",
            "i = 3 e j = 6\n"
          ]
        }
      ]
    },
    {
      "cell_type": "code",
      "source": [
        "alunos = {\"Maria\": [9, 10], \"Joao\": [5, 9], \"Jose\": [6, 5]}"
      ],
      "metadata": {
        "id": "X2SeTwJuhB-U"
      },
      "execution_count": null,
      "outputs": []
    },
    {
      "cell_type": "code",
      "source": [
        "for chave in alunos.keys():\n",
        "  print(chave)\n",
        "  for nota in alunos[chave]:\n",
        "    print(nota)"
      ],
      "metadata": {
        "colab": {
          "base_uri": "https://localhost:8080/"
        },
        "id": "zfjhKPrZhQnv",
        "outputId": "05bedb05-d64b-4d7a-ef14-07394bdeecf1"
      },
      "execution_count": null,
      "outputs": [
        {
          "output_type": "stream",
          "name": "stdout",
          "text": [
            "Maria\n",
            "9\n",
            "10\n",
            "Joao\n",
            "5\n",
            "9\n",
            "Jose\n",
            "6\n",
            "5\n"
          ]
        }
      ]
    },
    {
      "cell_type": "code",
      "source": [
        "for palavra in \"Python\":\n",
        "  print(palavra)"
      ],
      "metadata": {
        "colab": {
          "base_uri": "https://localhost:8080/"
        },
        "id": "CPENcPomiE2O",
        "outputId": "33061880-f5c0-4e38-e61e-5607d1815591"
      },
      "execution_count": null,
      "outputs": [
        {
          "output_type": "stream",
          "name": "stdout",
          "text": [
            "P\n",
            "y\n",
            "t\n",
            "h\n",
            "o\n",
            "n\n"
          ]
        }
      ]
    },
    {
      "cell_type": "code",
      "source": [
        "palavra = \"Python\"\n",
        "i = 0\n",
        "while i < len(palavra):\n",
        "  print(palavra[i])\n",
        "  i = i + 1"
      ],
      "metadata": {
        "colab": {
          "base_uri": "https://localhost:8080/"
        },
        "id": "RCMiLGWhiIs7",
        "outputId": "0b609356-7190-4645-ab37-490d1a407b64"
      },
      "execution_count": null,
      "outputs": [
        {
          "output_type": "stream",
          "name": "stdout",
          "text": [
            "P\n",
            "y\n",
            "t\n",
            "h\n",
            "o\n",
            "n\n"
          ]
        }
      ]
    },
    {
      "cell_type": "code",
      "source": [
        "for i in range(1, 4):\n",
        "  print(i)\n",
        "  for j in range(4, 7):\n",
        "    break\n",
        "    print(f\"i = {i} e j = {j}\")"
      ],
      "metadata": {
        "colab": {
          "base_uri": "https://localhost:8080/"
        },
        "id": "aeycC6IIjfLc",
        "outputId": "3cd4e9a6-30ee-4657-9e1a-3540c0bcd71b"
      },
      "execution_count": null,
      "outputs": [
        {
          "output_type": "stream",
          "name": "stdout",
          "text": [
            "1\n",
            "2\n",
            "3\n"
          ]
        }
      ]
    },
    {
      "cell_type": "code",
      "source": [
        "for i in range(1, 4):\n",
        "  print(i)\n",
        "  for j in range(4, 7):\n",
        "    print(f\"i = {i} e j = {j}\")\n",
        "    break"
      ],
      "metadata": {
        "colab": {
          "base_uri": "https://localhost:8080/"
        },
        "id": "s85fjFlfjjKk",
        "outputId": "50f7d555-284a-4dd6-93cc-6779bc9b58d9"
      },
      "execution_count": null,
      "outputs": [
        {
          "output_type": "stream",
          "name": "stdout",
          "text": [
            "1\n",
            "i = 1 e j = 4\n",
            "2\n",
            "i = 2 e j = 4\n",
            "3\n",
            "i = 3 e j = 4\n"
          ]
        }
      ]
    },
    {
      "cell_type": "code",
      "source": [
        "for i in range(1, 4):\n",
        "  print(i)\n",
        "  break\n",
        "  for j in range(4, 7):\n",
        "    print(f\"i = {i} e j = {j}\")"
      ],
      "metadata": {
        "colab": {
          "base_uri": "https://localhost:8080/"
        },
        "id": "87TPA8Xkj8w9",
        "outputId": "8078c271-85c8-4324-bf90-ed173c8e7174"
      },
      "execution_count": null,
      "outputs": [
        {
          "output_type": "stream",
          "name": "stdout",
          "text": [
            "1\n"
          ]
        }
      ]
    },
    {
      "cell_type": "code",
      "source": [
        "max?"
      ],
      "metadata": {
        "id": "lrsLYH6ckEE1"
      },
      "execution_count": null,
      "outputs": []
    },
    {
      "cell_type": "markdown",
      "source": [
        "## Break e continue"
      ],
      "metadata": {
        "id": "Rt9_uHSvi6fB"
      }
    },
    {
      "cell_type": "code",
      "source": [
        "n = 5\n",
        "\n",
        "while n > 0:\n",
        "  n -= 1\n",
        "  print(n)"
      ],
      "metadata": {
        "id": "lJcXy5u6jEkj",
        "colab": {
          "base_uri": "https://localhost:8080/"
        },
        "outputId": "b5be083f-5275-4eaa-b6c1-947f7546d517"
      },
      "execution_count": null,
      "outputs": [
        {
          "output_type": "stream",
          "name": "stdout",
          "text": [
            "4\n",
            "3\n",
            "2\n",
            "1\n",
            "0\n"
          ]
        }
      ]
    },
    {
      "cell_type": "code",
      "source": [
        "n = 5\n",
        "while n > 0:\n",
        "  n -= 1\n",
        "  if n == 2:\n",
        "    break\n",
        "  print(n)"
      ],
      "metadata": {
        "id": "oR-L0ss3jEoj",
        "colab": {
          "base_uri": "https://localhost:8080/"
        },
        "outputId": "1f5934ee-b58c-41a0-d16a-4311a0ee80cd"
      },
      "execution_count": null,
      "outputs": [
        {
          "output_type": "stream",
          "name": "stdout",
          "text": [
            "4\n",
            "3\n"
          ]
        }
      ]
    },
    {
      "cell_type": "code",
      "source": [
        "n = 5\n",
        "\n",
        "while n > 0:\n",
        "  n -= 1\n",
        "  if n == 2:\n",
        "    continue\n",
        "  print(n)"
      ],
      "metadata": {
        "colab": {
          "base_uri": "https://localhost:8080/"
        },
        "id": "WGAfQJAwjLCY",
        "outputId": "ff2ddd25-6994-43e6-abbb-94119b5672bd"
      },
      "execution_count": null,
      "outputs": [
        {
          "output_type": "stream",
          "name": "stdout",
          "text": [
            "4\n",
            "3\n",
            "1\n",
            "0\n"
          ]
        }
      ]
    },
    {
      "cell_type": "markdown",
      "source": [
        "## Exercicio palíndromo"
      ],
      "metadata": {
        "id": "6-jXPJI9kHGe"
      }
    },
    {
      "cell_type": "markdown",
      "source": [
        "Um palíndromo é uma palavra, frase ou sequência que lê o mesmo para trás e para frente, por exemplo, ana e arara. Escreva um programa em python que receba uma palavra e retorne se é palíndromo ou não."
      ],
      "metadata": {
        "id": "CIWZsLe-mYw-"
      }
    },
    {
      "cell_type": "code",
      "source": [
        "palavra = list(\"sergio\")\n",
        "nova = []\n",
        "for letra in reversed(palavra):\n",
        "  nova.append(letra)\n",
        "\n",
        "print(nova)"
      ],
      "metadata": {
        "id": "20nLtbg5pxRW",
        "colab": {
          "base_uri": "https://localhost:8080/"
        },
        "outputId": "9a9f0700-081c-491f-e2ad-148fa54ffc13"
      },
      "execution_count": null,
      "outputs": [
        {
          "output_type": "stream",
          "name": "stdout",
          "text": [
            "['o', 'i', 'g', 'r', 'e', 's']\n"
          ]
        }
      ]
    },
    {
      "cell_type": "code",
      "source": [
        "print(nova,\" \",palavra)\n",
        "if nova == palavra:\n",
        "  print(\"é palíndromo\")\n",
        "else:\n",
        "  print(\"não é\")"
      ],
      "metadata": {
        "colab": {
          "base_uri": "https://localhost:8080/"
        },
        "id": "41t5CEtXmUhl",
        "outputId": "4e29d3c4-3b60-4d05-c6ea-e236745cbb4e"
      },
      "execution_count": null,
      "outputs": [
        {
          "output_type": "stream",
          "name": "stdout",
          "text": [
            "['o', 'i', 'g', 'r', 'e', 's']   ['s', 'e', 'r', 'g', 'i', 'o']\n",
            "não é\n"
          ]
        }
      ]
    },
    {
      "cell_type": "code",
      "source": [
        "palavra = \"ARARA\"\n",
        "esquerda = 0\n",
        "direita = len(palavra) - 1\n",
        "palindromo = True\n",
        "\n",
        "while direita >= esquerda:\n",
        "  if palavra[direita] != palavra[esquerda]:\n",
        "    palindromo = False\n",
        "\n",
        "  esquerda += 1\n",
        "  direita -= 1\n",
        "\n",
        "print(palindromo)"
      ],
      "metadata": {
        "colab": {
          "base_uri": "https://localhost:8080/"
        },
        "id": "6mlWRS26nBru",
        "outputId": "f0366a78-244a-4f69-9f6b-422f9f0680f3"
      },
      "execution_count": null,
      "outputs": [
        {
          "output_type": "stream",
          "name": "stdout",
          "text": [
            "False\n"
          ]
        }
      ]
    },
    {
      "cell_type": "code",
      "source": [
        "direita"
      ],
      "metadata": {
        "colab": {
          "base_uri": "https://localhost:8080/"
        },
        "id": "ZBDVVXcVnTlY",
        "outputId": "2c54e379-ff0f-4289-ef35-11b77c83c232"
      },
      "execution_count": null,
      "outputs": [
        {
          "output_type": "execute_result",
          "data": {
            "text/plain": [
              "4"
            ]
          },
          "metadata": {},
          "execution_count": 181
        }
      ]
    },
    {
      "cell_type": "code",
      "source": [
        "word1 = \"ARARAD\"\n",
        "\n",
        "print(word1[0::])\n",
        "\n",
        "print(word1[::-1])\n",
        "\n",
        "if str(word1) == str(word1)[::-1] :\n",
        "\n",
        "    print(\"Palindrome\")\n",
        "\n",
        "else:\n",
        "\n",
        "    print(\"Not Palindrome\")"
      ],
      "metadata": {
        "colab": {
          "base_uri": "https://localhost:8080/"
        },
        "id": "FSwFlHATptSm",
        "outputId": "64a8393f-2eab-4f4e-b752-cd19144b81bc"
      },
      "execution_count": null,
      "outputs": [
        {
          "output_type": "stream",
          "name": "stdout",
          "text": [
            "ARARAD\n",
            "DARARA\n",
            "Not Palindrome\n"
          ]
        }
      ]
    },
    {
      "cell_type": "markdown",
      "metadata": {
        "id": "Mqh6kvsDJbV3"
      },
      "source": [
        "### Funções"
      ]
    },
    {
      "cell_type": "code",
      "execution_count": null,
      "metadata": {
        "id": "_ZULMLQDJbV4"
      },
      "outputs": [],
      "source": [
        ""
      ]
    },
    {
      "cell_type": "markdown",
      "metadata": {
        "id": "xWh10MLLJbV4"
      },
      "source": [
        "* Parâmetros"
      ]
    },
    {
      "cell_type": "code",
      "execution_count": null,
      "metadata": {
        "id": "K96ZW4AtJbV5"
      },
      "outputs": [],
      "source": [
        ""
      ]
    },
    {
      "cell_type": "markdown",
      "metadata": {
        "id": "M3TIcs9kJbV5"
      },
      "source": [
        "* Função com retorno"
      ]
    },
    {
      "cell_type": "code",
      "execution_count": null,
      "metadata": {
        "id": "W2GnDAC0JbV5"
      },
      "outputs": [],
      "source": [
        ""
      ]
    },
    {
      "cell_type": "markdown",
      "metadata": {
        "id": "WX26SY07JbV6"
      },
      "source": [
        "* Função com múltiplos retornos"
      ]
    },
    {
      "cell_type": "code",
      "execution_count": null,
      "metadata": {
        "id": "TsHtx5qEJbV6"
      },
      "outputs": [],
      "source": [
        ""
      ]
    },
    {
      "cell_type": "code",
      "execution_count": null,
      "metadata": {
        "id": "IVQqW7YFex_-"
      },
      "outputs": [],
      "source": [
        ""
      ]
    },
    {
      "cell_type": "code",
      "execution_count": null,
      "metadata": {
        "id": "svmZAy2Be3OP"
      },
      "outputs": [],
      "source": [
        ""
      ]
    },
    {
      "cell_type": "code",
      "execution_count": null,
      "metadata": {
        "id": "zo32SZkQfi9u"
      },
      "outputs": [],
      "source": [
        ""
      ]
    },
    {
      "cell_type": "code",
      "execution_count": null,
      "metadata": {
        "id": "jme2FknZyvnt"
      },
      "outputs": [],
      "source": [
        ""
      ]
    }
  ],
  "metadata": {
    "colab": {
      "collapsed_sections": [],
      "name": "Aula_3_Python_para_Ciência_de_dados_T1_Online.ipynb",
      "provenance": [],
      "include_colab_link": true
    },
    "kernelspec": {
      "display_name": "Python 3",
      "language": "python",
      "name": "python3"
    },
    "language_info": {
      "codemirror_mode": {
        "name": "ipython",
        "version": 3
      },
      "file_extension": ".py",
      "mimetype": "text/x-python",
      "name": "python",
      "nbconvert_exporter": "python",
      "pygments_lexer": "ipython3",
      "version": "3.7.3"
    }
  },
  "nbformat": 4,
  "nbformat_minor": 0
}